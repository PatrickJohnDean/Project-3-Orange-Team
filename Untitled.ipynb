{
 "cells": [
  {
   "cell_type": "code",
   "execution_count": 2,
   "id": "70aab931",
   "metadata": {},
   "outputs": [
    {
     "name": "stdout",
     "output_type": "stream",
     "text": [
      "Collecting ipyleaflet\n",
      "  Obtaining dependency information for ipyleaflet from https://files.pythonhosted.org/packages/ac/6e/5e37c062d615e82c044086a38b0cd56ab86b9a298b1fa3688d01afe3ae39/ipyleaflet-0.18.2-py3-none-any.whl.metadata\n",
      "  Downloading ipyleaflet-0.18.2-py3-none-any.whl.metadata (1.0 kB)\n",
      "Requirement already satisfied: ipywidgets<9,>=7.6.0 in /Users/chaunguyen/anaconda3/envs/dev/lib/python3.10/site-packages (from ipyleaflet) (8.0.4)\n",
      "Collecting traittypes<3,>=0.2.1 (from ipyleaflet)\n",
      "  Obtaining dependency information for traittypes<3,>=0.2.1 from https://files.pythonhosted.org/packages/9c/d1/8d5bd662703cc1764d986f6908a608777305946fa634d34c470cd4a1e729/traittypes-0.2.1-py2.py3-none-any.whl.metadata\n",
      "  Downloading traittypes-0.2.1-py2.py3-none-any.whl.metadata (1.0 kB)\n",
      "Requirement already satisfied: xyzservices>=2021.8.1 in /Users/chaunguyen/anaconda3/envs/dev/lib/python3.10/site-packages (from ipyleaflet) (2022.9.0)\n",
      "Requirement already satisfied: branca>=0.5.0 in /Users/chaunguyen/anaconda3/envs/dev/lib/python3.10/site-packages (from ipyleaflet) (0.7.1)\n",
      "Requirement already satisfied: jinja2>=3 in /Users/chaunguyen/anaconda3/envs/dev/lib/python3.10/site-packages (from branca>=0.5.0->ipyleaflet) (3.1.2)\n",
      "Requirement already satisfied: ipykernel>=4.5.1 in /Users/chaunguyen/anaconda3/envs/dev/lib/python3.10/site-packages (from ipywidgets<9,>=7.6.0->ipyleaflet) (6.25.0)\n",
      "Requirement already satisfied: ipython>=6.1.0 in /Users/chaunguyen/anaconda3/envs/dev/lib/python3.10/site-packages (from ipywidgets<9,>=7.6.0->ipyleaflet) (8.15.0)\n",
      "Requirement already satisfied: traitlets>=4.3.1 in /Users/chaunguyen/anaconda3/envs/dev/lib/python3.10/site-packages (from ipywidgets<9,>=7.6.0->ipyleaflet) (5.7.1)\n",
      "Requirement already satisfied: widgetsnbextension~=4.0 in /Users/chaunguyen/anaconda3/envs/dev/lib/python3.10/site-packages (from ipywidgets<9,>=7.6.0->ipyleaflet) (4.0.5)\n",
      "Requirement already satisfied: jupyterlab-widgets~=3.0 in /Users/chaunguyen/anaconda3/envs/dev/lib/python3.10/site-packages (from ipywidgets<9,>=7.6.0->ipyleaflet) (3.0.5)\n",
      "Requirement already satisfied: appnope in /Users/chaunguyen/anaconda3/envs/dev/lib/python3.10/site-packages (from ipykernel>=4.5.1->ipywidgets<9,>=7.6.0->ipyleaflet) (0.1.2)\n",
      "Requirement already satisfied: comm>=0.1.1 in /Users/chaunguyen/anaconda3/envs/dev/lib/python3.10/site-packages (from ipykernel>=4.5.1->ipywidgets<9,>=7.6.0->ipyleaflet) (0.1.2)\n",
      "Requirement already satisfied: debugpy>=1.6.5 in /Users/chaunguyen/anaconda3/envs/dev/lib/python3.10/site-packages (from ipykernel>=4.5.1->ipywidgets<9,>=7.6.0->ipyleaflet) (1.6.7)\n",
      "Requirement already satisfied: jupyter-client>=6.1.12 in /Users/chaunguyen/anaconda3/envs/dev/lib/python3.10/site-packages (from ipykernel>=4.5.1->ipywidgets<9,>=7.6.0->ipyleaflet) (7.4.9)\n",
      "Requirement already satisfied: jupyter-core!=5.0.*,>=4.12 in /Users/chaunguyen/anaconda3/envs/dev/lib/python3.10/site-packages (from ipykernel>=4.5.1->ipywidgets<9,>=7.6.0->ipyleaflet) (5.3.0)\n",
      "Requirement already satisfied: matplotlib-inline>=0.1 in /Users/chaunguyen/anaconda3/envs/dev/lib/python3.10/site-packages (from ipykernel>=4.5.1->ipywidgets<9,>=7.6.0->ipyleaflet) (0.1.6)\n",
      "Requirement already satisfied: nest-asyncio in /Users/chaunguyen/anaconda3/envs/dev/lib/python3.10/site-packages (from ipykernel>=4.5.1->ipywidgets<9,>=7.6.0->ipyleaflet) (1.5.6)\n",
      "Requirement already satisfied: packaging in /Users/chaunguyen/anaconda3/envs/dev/lib/python3.10/site-packages (from ipykernel>=4.5.1->ipywidgets<9,>=7.6.0->ipyleaflet) (23.1)\n",
      "Requirement already satisfied: psutil in /Users/chaunguyen/anaconda3/envs/dev/lib/python3.10/site-packages (from ipykernel>=4.5.1->ipywidgets<9,>=7.6.0->ipyleaflet) (5.9.0)\n",
      "Requirement already satisfied: pyzmq>=20 in /Users/chaunguyen/anaconda3/envs/dev/lib/python3.10/site-packages (from ipykernel>=4.5.1->ipywidgets<9,>=7.6.0->ipyleaflet) (23.2.0)\n",
      "Requirement already satisfied: tornado>=6.1 in /Users/chaunguyen/anaconda3/envs/dev/lib/python3.10/site-packages (from ipykernel>=4.5.1->ipywidgets<9,>=7.6.0->ipyleaflet) (6.3.2)\n",
      "Requirement already satisfied: backcall in /Users/chaunguyen/anaconda3/envs/dev/lib/python3.10/site-packages (from ipython>=6.1.0->ipywidgets<9,>=7.6.0->ipyleaflet) (0.2.0)\n",
      "Requirement already satisfied: decorator in /Users/chaunguyen/anaconda3/envs/dev/lib/python3.10/site-packages (from ipython>=6.1.0->ipywidgets<9,>=7.6.0->ipyleaflet) (5.1.1)\n",
      "Requirement already satisfied: jedi>=0.16 in /Users/chaunguyen/anaconda3/envs/dev/lib/python3.10/site-packages (from ipython>=6.1.0->ipywidgets<9,>=7.6.0->ipyleaflet) (0.18.1)\n",
      "Requirement already satisfied: pickleshare in /Users/chaunguyen/anaconda3/envs/dev/lib/python3.10/site-packages (from ipython>=6.1.0->ipywidgets<9,>=7.6.0->ipyleaflet) (0.7.5)\n",
      "Requirement already satisfied: prompt-toolkit!=3.0.37,<3.1.0,>=3.0.30 in /Users/chaunguyen/anaconda3/envs/dev/lib/python3.10/site-packages (from ipython>=6.1.0->ipywidgets<9,>=7.6.0->ipyleaflet) (3.0.36)\n",
      "Requirement already satisfied: pygments>=2.4.0 in /Users/chaunguyen/anaconda3/envs/dev/lib/python3.10/site-packages (from ipython>=6.1.0->ipywidgets<9,>=7.6.0->ipyleaflet) (2.15.1)\n",
      "Requirement already satisfied: stack-data in /Users/chaunguyen/anaconda3/envs/dev/lib/python3.10/site-packages (from ipython>=6.1.0->ipywidgets<9,>=7.6.0->ipyleaflet) (0.2.0)\n",
      "Requirement already satisfied: exceptiongroup in /Users/chaunguyen/anaconda3/envs/dev/lib/python3.10/site-packages (from ipython>=6.1.0->ipywidgets<9,>=7.6.0->ipyleaflet) (1.0.4)\n",
      "Requirement already satisfied: pexpect>4.3 in /Users/chaunguyen/anaconda3/envs/dev/lib/python3.10/site-packages (from ipython>=6.1.0->ipywidgets<9,>=7.6.0->ipyleaflet) (4.8.0)\n",
      "Requirement already satisfied: MarkupSafe>=2.0 in /Users/chaunguyen/anaconda3/envs/dev/lib/python3.10/site-packages (from jinja2>=3->branca>=0.5.0->ipyleaflet) (2.1.1)\n",
      "Requirement already satisfied: parso<0.9.0,>=0.8.0 in /Users/chaunguyen/anaconda3/envs/dev/lib/python3.10/site-packages (from jedi>=0.16->ipython>=6.1.0->ipywidgets<9,>=7.6.0->ipyleaflet) (0.8.3)\n",
      "Requirement already satisfied: entrypoints in /Users/chaunguyen/anaconda3/envs/dev/lib/python3.10/site-packages (from jupyter-client>=6.1.12->ipykernel>=4.5.1->ipywidgets<9,>=7.6.0->ipyleaflet) (0.4)\n",
      "Requirement already satisfied: python-dateutil>=2.8.2 in /Users/chaunguyen/anaconda3/envs/dev/lib/python3.10/site-packages (from jupyter-client>=6.1.12->ipykernel>=4.5.1->ipywidgets<9,>=7.6.0->ipyleaflet) (2.8.2)\n",
      "Requirement already satisfied: platformdirs>=2.5 in /Users/chaunguyen/anaconda3/envs/dev/lib/python3.10/site-packages (from jupyter-core!=5.0.*,>=4.12->ipykernel>=4.5.1->ipywidgets<9,>=7.6.0->ipyleaflet) (3.10.0)\n",
      "Requirement already satisfied: ptyprocess>=0.5 in /Users/chaunguyen/anaconda3/envs/dev/lib/python3.10/site-packages (from pexpect>4.3->ipython>=6.1.0->ipywidgets<9,>=7.6.0->ipyleaflet) (0.7.0)\n",
      "Requirement already satisfied: wcwidth in /Users/chaunguyen/anaconda3/envs/dev/lib/python3.10/site-packages (from prompt-toolkit!=3.0.37,<3.1.0,>=3.0.30->ipython>=6.1.0->ipywidgets<9,>=7.6.0->ipyleaflet) (0.2.5)\n",
      "Requirement already satisfied: executing in /Users/chaunguyen/anaconda3/envs/dev/lib/python3.10/site-packages (from stack-data->ipython>=6.1.0->ipywidgets<9,>=7.6.0->ipyleaflet) (0.8.3)\n",
      "Requirement already satisfied: asttokens in /Users/chaunguyen/anaconda3/envs/dev/lib/python3.10/site-packages (from stack-data->ipython>=6.1.0->ipywidgets<9,>=7.6.0->ipyleaflet) (2.0.5)\n",
      "Requirement already satisfied: pure-eval in /Users/chaunguyen/anaconda3/envs/dev/lib/python3.10/site-packages (from stack-data->ipython>=6.1.0->ipywidgets<9,>=7.6.0->ipyleaflet) (0.2.2)\n",
      "Requirement already satisfied: six>=1.5 in /Users/chaunguyen/anaconda3/envs/dev/lib/python3.10/site-packages (from python-dateutil>=2.8.2->jupyter-client>=6.1.12->ipykernel>=4.5.1->ipywidgets<9,>=7.6.0->ipyleaflet) (1.16.0)\n",
      "Downloading ipyleaflet-0.18.2-py3-none-any.whl (3.7 MB)\n",
      "\u001b[2K   \u001b[90m━━━━━━━━━━━━━━━━━━━━━━━━━━━━━━━━━━━━━━━━\u001b[0m \u001b[32m3.7/3.7 MB\u001b[0m \u001b[31m15.0 MB/s\u001b[0m eta \u001b[36m0:00:00\u001b[0m00:01\u001b[0m00:01\u001b[0m\n",
      "\u001b[?25hDownloading traittypes-0.2.1-py2.py3-none-any.whl (8.6 kB)\n",
      "Installing collected packages: traittypes, ipyleaflet\n",
      "Successfully installed ipyleaflet-0.18.2 traittypes-0.2.1\n"
     ]
    },
    {
     "name": "stdout",
     "output_type": "stream",
     "text": [
      "Note: you may need to restart the kernel to use updated packages.\n"
     ]
    }
   ],
   "source": [
    "pip install ipyleaflet"
   ]
  },
  {
   "cell_type": "code",
   "execution_count": 3,
   "id": "eef78d72",
   "metadata": {},
   "outputs": [
    {
     "ename": "SyntaxError",
     "evalue": "invalid syntax (217603817.py, line 1)",
     "output_type": "error",
     "traceback": [
      "\u001b[0;36m  Cell \u001b[0;32mIn[3], line 1\u001b[0;36m\u001b[0m\n\u001b[0;31m    jupyter nbextension enable --py --sys-prefix ipyleaflet\u001b[0m\n\u001b[0m            ^\u001b[0m\n\u001b[0;31mSyntaxError\u001b[0m\u001b[0;31m:\u001b[0m invalid syntax\n"
     ]
    }
   ],
   "source": [
    "jupyter nbextension enable --py --sys-prefix ipyleaflet"
   ]
  },
  {
   "cell_type": "code",
   "execution_count": null,
   "id": "cdf6eef3",
   "metadata": {},
   "outputs": [],
   "source": []
  }
 ],
 "metadata": {
  "kernelspec": {
   "display_name": "Python 3 (ipykernel)",
   "language": "python",
   "name": "python3"
  },
  "language_info": {
   "codemirror_mode": {
    "name": "ipython",
    "version": 3
   },
   "file_extension": ".py",
   "mimetype": "text/x-python",
   "name": "python",
   "nbconvert_exporter": "python",
   "pygments_lexer": "ipython3",
   "version": "3.10.13"
  }
 },
 "nbformat": 4,
 "nbformat_minor": 5
}
