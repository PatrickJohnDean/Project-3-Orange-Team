{
 "cells": [
  {
   "cell_type": "code",
   "execution_count": null,
   "id": "3f02f108",
   "metadata": {},
   "outputs": [],
   "source": [
    "import pandas as pd\n",
    "from pymongo import MongoClient\n",
    "import folium"
   ]
  },
  {
   "cell_type": "code",
   "execution_count": null,
   "id": "ae21d4c7",
   "metadata": {},
   "outputs": [],
   "source": [
    "# Create instance of MongoClient\n",
    "mongo = MongoClient(port=27017)"
   ]
  },
  {
   "cell_type": "code",
   "execution_count": null,
   "id": "cff539e9",
   "metadata": {},
   "outputs": [],
   "source": [
    "# Assign database to variable\n",
    "db = mongo['Bridges']\n",
    "collection = db['PhillyBridges']\n",
    "data = collection.find()\n",
    "bridge_df = pd.DataFrame(list(data))\n",
    "df"
   ]
  },
  {
   "cell_type": "code",
   "execution_count": null,
   "id": "f1129c95",
   "metadata": {},
   "outputs": [],
   "source": [
    "# Create map of Philadelphia\n",
    "myMap = folium.Map(location = (39.952583, -75.165222), tiles = \"OpenStreetMap\")\n",
    "myMap"
   ]
  },
  {
   "cell_type": "code",
   "execution_count": null,
   "id": "67e23841",
   "metadata": {},
   "outputs": [],
   "source": [
    "# Add another tile layer for visualization\n",
    "folium.TileLayer(\"cartodbpositron\").add_to(myMap)"
   ]
  },
  {
   "cell_type": "code",
   "execution_count": null,
   "id": "6db05748",
   "metadata": {},
   "outputs": [],
   "source": [
    "#Filter the data frame to get the traffic volume and coordinates for only the poor condition bridges\n",
    "\n",
    "poor_traffic = bridge_df.loc[bridge_df[\"Bridge_Condition\"] == \"Poor\", [\"Latitude\", \"Longitude\", \"Bridge_Condition\", \"Average Daily_Traffic\"]]\n",
    "\n",
    "# poor_traffic"
   ]
  },
  {
   "cell_type": "code",
   "execution_count": null,
   "id": "a3b4ad4c",
   "metadata": {},
   "outputs": [],
   "source": [
    "# Function to define marker color\n",
    "def get_circle_color(value):\n",
    "    if value <= 5000:\n",
    "        return 'green'\n",
    "    elif value >= 5001 and value < 10000:\n",
    "        return 'orange'\n",
    "    else:\n",
    "        return 'red'"
   ]
  },
  {
   "cell_type": "code",
   "execution_count": null,
   "id": "857ded15",
   "metadata": {},
   "outputs": [],
   "source": [
    "#Create separate groups for each cirlce color\n",
    "traffic_volume = folium.FeatureGroup(name = \"Traiffic Volume\", show=False ) \n",
    "\n",
    "#Add circles to the map for each poor condition bridge reflecting their traffic volume\n",
    "\n",
    "for index, row in poor_traffic.iterrows():\n",
    "    # Get the value for the circle color from the ADT column\n",
    "    value = row[\"Average Daily_Traffic\"]\n",
    "\n",
    "    # Determine the color based on the value ranges\n",
    "    color = get_circle_color(value)\n",
    "\n",
    "    # Add a circle to the map with the determined color\n",
    "    marker = folium.CircleMarker(\n",
    "        location=[row[\"Latitude\"], row[\"Longitude\"]], \n",
    "        color=color,\n",
    "        fill_color=color,\n",
    "        fill_opacity=0.7,\n",
    "        radius=10).add_to(traffic_volume)\n",
    "\n",
    "# Create a function to assign different colors for the three different condition grades    \n",
    "\n",
    "condition = bridge_df[\"Bridge_Condition\"]\n",
    "def get_marker_color(condition):\n",
    "    if condition == \"Good\":\n",
    "        return \"green\"\n",
    "    elif condition == \"Fair\":\n",
    "        return \"orange\" \n",
    "    else:\n",
    "        return \"darkred\"\n",
    "\n",
    "#Create separate groups for each marker type\n",
    "good_group = folium.FeatureGroup(name=\"Good Condition\")\n",
    "fair_group = folium.FeatureGroup(name=\"Fair Condition\")\n",
    "poor_group = folium.FeatureGroup(name=\"Poor Condition\")\n",
    "\n",
    "#Markers\n",
    "for index, row in bridge_df.iterrows():\n",
    "    ID = row[\"Bridge_ID\"]\n",
    "    lat = row[\"Latitude\"]\n",
    "    long = row[\"Longitude\"]\n",
    "    condition = row[\"Bridge_Condition\"]\n",
    "    address = row[\"Address\"]\n",
    "    avg_daily_traffic = row[\"Average Daily_Traffic\"]\n",
    "    repair_cost = row[\"Repair_Cost_Est\"]\n",
    "    replace_cost = row[\"Replacement_Cost_Est\"]\n",
    "    #Marker Coloring\n",
    "    marker_color = get_marker_color(condition)\n",
    "    text = f\"ID: {ID} <br>Address: {address} <br>Latitude: {lat} <br>Longitude: {long} <br> Condition: {condition} <br> Average Daily Traffic: {avg_daily_traffic} <br> Estimaed Cost to Repair: {repair_cost} <br> Estimaed Cost to Replace: {replace_cost}\"\n",
    "    popup = folium.Popup(text, max_width = 300)\n",
    "    marker = folium.Marker([lat, long], popup=popup, icon=folium.Icon(color=marker_color))\n",
    "    \n",
    "    if condition == \"Good\":\n",
    "        marker.add_to(good_group)\n",
    "    elif condition == \"Fair\":\n",
    "        marker.add_to(fair_group)\n",
    "    elif condition == \"Poor\":\n",
    "        marker.add_to(poor_group)\n",
    "    else:\n",
    "        marker.add_to(myMap)\n",
    "\n",
    "good_group.add_to(myMap)\n",
    "fair_group.add_to(myMap)\n",
    "poor_group.add_to(myMap)\n",
    "traffic_volume.add_to(myMap)\n",
    "\n",
    "\n",
    "folium.LayerControl().add_to(myMap)\n",
    "\n",
    "myMap"
   ]
  }
 ],
 "metadata": {
  "kernelspec": {
   "display_name": "Python 3 (ipykernel)",
   "language": "python",
   "name": "python3"
  },
  "language_info": {
   "codemirror_mode": {
    "name": "ipython",
    "version": 3
   },
   "file_extension": ".py",
   "mimetype": "text/x-python",
   "name": "python",
   "nbconvert_exporter": "python",
   "pygments_lexer": "ipython3",
   "version": "3.10.13"
  }
 },
 "nbformat": 4,
 "nbformat_minor": 5
}
